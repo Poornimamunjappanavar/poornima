{
  "nbformat": 4,
  "nbformat_minor": 0,
  "metadata": {
    "colab": {
      "private_outputs": true,
      "provenance": [],
      "authorship_tag": "ABX9TyPpMe+CSHlyIysv7LXyBfqE",
      "include_colab_link": true
    },
    "kernelspec": {
      "name": "python3",
      "display_name": "Python 3"
    },
    "language_info": {
      "name": "python"
    }
  },
  "cells": [
    {
      "cell_type": "markdown",
      "metadata": {
        "id": "view-in-github",
        "colab_type": "text"
      },
      "source": [
        "<a href=\"https://colab.research.google.com/github/Poornimamunjappanavar/poornima/blob/main/cie2.ipynb\" target=\"_parent\"><img src=\"https://colab.research.google.com/assets/colab-badge.svg\" alt=\"Open In Colab\"/></a>"
      ]
    },
    {
      "cell_type": "code",
      "execution_count": null,
      "metadata": {
        "id": "-C3XKzndHUXy"
      },
      "outputs": [],
      "source": [
        "import pandas as pd\n",
        "df=pd.read_csv('/content/titanic.csv')\n",
        "df.info()\n",
        "df.describe()"
      ]
    },
    {
      "cell_type": "code",
      "source": [
        "new_titanic=df.isnull().sum()\n",
        "new_titanic"
      ],
      "metadata": {
        "id": "3kqT-eyoISkk"
      },
      "execution_count": null,
      "outputs": []
    },
    {
      "cell_type": "code",
      "source": [
        "import seaborn as sns\n",
        "import matplotlib.pyplot as plt\n",
        "\n",
        "sns.countplot(x=\"pclass\", data=titanic)\n",
        "\n",
        "plt.title(\"display the Count by pClass\")\n",
        "plt.xlabel(\"Passenger Class\")\n",
        "plt.ylabel(\"Count\")\n",
        "plt.show()\n"
      ],
      "metadata": {
        "id": "ZNW_4Yv5Ia4b"
      },
      "execution_count": null,
      "outputs": []
    },
    {
      "cell_type": "code",
      "source": [
        "import seaborn as sns\n",
        "\n",
        "print(\"Missing values in Survived column:\", titanic['survived'].isnull().sum())\n",
        "print(\"Missing values in Age column:\", titanic['age'].isnull().sum())"
      ],
      "metadata": {
        "id": "z9ezD0KCKbqS"
      },
      "execution_count": null,
      "outputs": []
    },
    {
      "cell_type": "code",
      "source": [
        "new_titanic = df.dropna(subset=['Survived', 'Age'])\n",
        "display(new_titanic)\n"
      ],
      "metadata": {
        "id": "WTgkFME0QiV-"
      },
      "execution_count": null,
      "outputs": []
    }
  ]
}